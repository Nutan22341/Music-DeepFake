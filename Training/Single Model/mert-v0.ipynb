{
 "cells": [
  {
   "cell_type": "code",
   "execution_count": 1,
   "metadata": {
    "_cell_guid": "b1076dfc-b9ad-4769-8c92-a6c4dae69d19",
    "_uuid": "8f2839f25d086af736a60e9eeb907d3b93b6e0e5",
    "execution": {
     "iopub.execute_input": "2025-03-20T20:11:15.736634Z",
     "iopub.status.busy": "2025-03-20T20:11:15.736418Z",
     "iopub.status.idle": "2025-03-20T20:11:15.761281Z",
     "shell.execute_reply": "2025-03-20T20:11:15.759450Z",
     "shell.execute_reply.started": "2025-03-20T20:11:15.736613Z"
    },
    "trusted": true
   },
   "outputs": [],
   "source": [
    "import os\n",
    "import pandas as pd\n",
    "import librosa\n",
    "import librosa.display\n",
    "import matplotlib.pyplot as plt\n",
    "import numpy as np"
   ]
  },
  {
   "cell_type": "code",
   "execution_count": null,
   "metadata": {
    "execution": {
     "iopub.execute_input": "2025-01-27T20:20:37.867517Z",
     "iopub.status.busy": "2025-01-27T20:20:37.867104Z",
     "iopub.status.idle": "2025-01-27T20:20:37.872494Z",
     "shell.execute_reply": "2025-01-27T20:20:37.871190Z",
     "shell.execute_reply.started": "2025-01-27T20:20:37.867484Z"
    },
    "trusted": true
   },
   "outputs": [],
   "source": [
    "BASE_DIR = '/kaggle/input/deepfakedataset'"
   ]
  },
  {
   "cell_type": "code",
   "execution_count": null,
   "metadata": {
    "execution": {
     "iopub.execute_input": "2025-01-09T14:10:28.757491Z",
     "iopub.status.busy": "2025-01-09T14:10:28.757090Z",
     "iopub.status.idle": "2025-01-09T14:11:41.539588Z",
     "shell.execute_reply": "2025-01-09T14:11:41.537968Z",
     "shell.execute_reply.started": "2025-01-09T14:10:28.757458Z"
    },
    "trusted": true
   },
   "outputs": [],
   "source": [
    "for root, dirs, files in os.walk(BASE_DIR):\n",
    "    print(f\"Root: {root}, Directories: {dirs}, Files: {len(files)}\")"
   ]
  },
  {
   "cell_type": "code",
   "execution_count": null,
   "metadata": {
    "execution": {
     "iopub.execute_input": "2025-01-27T20:20:47.061300Z",
     "iopub.status.busy": "2025-01-27T20:20:47.060894Z"
    },
    "trusted": true
   },
   "outputs": [],
   "source": [
    "import librosa\n",
    "import librosa.display\n",
    "import matplotlib.pyplot as plt\n",
    "import os\n",
    "import numpy as np\n",
    "\n",
    "# Initialize variables to track maximum and minimum durations\n",
    "max_duration = -np.inf\n",
    "min_duration = np.inf\n",
    "max_duration_file = None\n",
    "min_duration_file = None\n",
    "\n",
    "# Function to analyze individual audio file\n",
    "def analyze_audio(file_path):\n",
    "    global max_duration, min_duration, max_duration_file, min_duration_file\n",
    "\n",
    "    # Load audio file\n",
    "    audio, sr = librosa.load(file_path, sr=None)\n",
    "    \n",
    "    # Compute the duration\n",
    "    duration = librosa.get_duration(y=audio, sr=sr)\n",
    "    \n",
    "    # Update maximum and minimum durations\n",
    "    if duration > max_duration:\n",
    "        max_duration = duration\n",
    "        max_duration_file = file_path\n",
    "    if duration < min_duration:\n",
    "        min_duration = duration\n",
    "        min_duration_file = file_path\n",
    "\n",
    "    # Print basic audio properties\n",
    "    print(f\"Audio File: {file_path}\")\n",
    "    print(f\"Sample Rate: {sr}\")\n",
    "    print(f\"Duration: {duration:.2f} seconds\")\n",
    "    \n",
    "    # Plot the waveform\n",
    "    plt.figure(figsize=(10, 4))\n",
    "    librosa.display.waveshow(audio, sr=sr)\n",
    "    plt.title('Waveform')\n",
    "    plt.xlabel('Time (s)')\n",
    "    plt.ylabel('Amplitude')\n",
    "    plt.show()\n",
    "\n",
    "    # Compute and plot the spectrogram\n",
    "    spectrogram = librosa.feature.melspectrogram(y=audio, sr=sr, n_mels=128)  # Fixed typo\n",
    "    spectrogram_db = librosa.power_to_db(spectrogram, ref=np.max)\n",
    "    \n",
    "    plt.figure(figsize=(10, 4))\n",
    "    librosa.display.specshow(spectrogram_db, sr=sr, x_axis='time', y_axis='mel', cmap='coolwarm')\n",
    "    plt.colorbar(format='%+2.0f dB')\n",
    "    plt.title('Mel-Spectrogram')\n",
    "    plt.show()\n",
    "\n",
    "# Loop through all files in the directory\n",
    "for root, dirs, files in os.walk(BASE_DIR):\n",
    "    for file in files:\n",
    "        if file.endswith(('.wav', '.mp3', '.flac')):  # Check for valid audio file extensions\n",
    "            file_path = os.path.join(root, file)  # Construct the full path\n",
    "            analyze_audio(file_path)  # Pass the full path to the function\n",
    "\n",
    "# Print the results for maximum and minimum durations\n",
    "print(\"\\nAnalysis Complete:\")\n",
    "print(f\"Longest Audio: {max_duration_file} ({max_duration:.2f} seconds)\")\n",
    "print(f\"Shortest Audio: {min_duration_file} ({min_duration:.2f} seconds)\")\n"
   ]
  },
  {
   "cell_type": "markdown",
   "metadata": {},
   "source": [
    "### Embedding Generation"
   ]
  },
  {
   "cell_type": "code",
   "execution_count": 7,
   "metadata": {
    "execution": {
     "iopub.execute_input": "2025-03-05T15:42:32.443557Z",
     "iopub.status.busy": "2025-03-05T15:42:32.443209Z",
     "iopub.status.idle": "2025-03-05T15:42:33.228296Z",
     "shell.execute_reply": "2025-03-05T15:42:33.227208Z",
     "shell.execute_reply.started": "2025-03-05T15:42:32.443527Z"
    },
    "trusted": true
   },
   "outputs": [
    {
     "name": "stdout",
     "output_type": "stream",
     "text": [
      "Cloning into 'MFM-models'...\n",
      "remote: Enumerating objects: 56, done.\u001b[K\n",
      "remote: Counting objects: 100% (56/56), done.\u001b[K\n",
      "remote: Compressing objects: 100% (40/40), done.\u001b[K\n",
      "remote: Total 56 (delta 14), reused 51 (delta 11), pack-reused 0 (from 0)\u001b[K\n",
      "Receiving objects: 100% (56/56), 10.43 KiB | 10.43 MiB/s, done.\n",
      "Resolving deltas: 100% (14/14), done.\n"
     ]
    }
   ],
   "source": [
    "!git clone https://github.com/CodeVault-girish/MFM-models.git"
   ]
  },
  {
   "cell_type": "code",
   "execution_count": null,
   "metadata": {
    "execution": {
     "iopub.execute_input": "2025-03-05T16:36:39.012957Z",
     "iopub.status.busy": "2025-03-05T16:36:39.012651Z",
     "iopub.status.idle": "2025-03-05T16:36:39.133296Z",
     "shell.execute_reply": "2025-03-05T16:36:39.131808Z",
     "shell.execute_reply.started": "2025-03-05T16:36:39.012930Z"
    },
    "trusted": true
   },
   "outputs": [
    {
     "name": "stdout",
     "output_type": "stream",
     "text": [
      "MFM-models  requirements.txt  state.db\n"
     ]
    }
   ],
   "source": [
    "!ls\n",
    "import sys\n",
    "sys.path.append(\"/kaggle/working/MFM-models\")  # Adjust the path if needed"
   ]
  },
  {
   "cell_type": "code",
   "execution_count": 4,
   "metadata": {
    "execution": {
     "iopub.execute_input": "2025-03-05T16:48:30.470184Z",
     "iopub.status.busy": "2025-03-05T16:48:30.469718Z",
     "iopub.status.idle": "2025-03-05T16:48:30.479181Z",
     "shell.execute_reply": "2025-03-05T16:48:30.478298Z",
     "shell.execute_reply.started": "2025-03-05T16:48:30.470146Z"
    },
    "trusted": true
   },
   "outputs": [
    {
     "name": "stdout",
     "output_type": "stream",
     "text": [
      "True\n"
     ]
    }
   ],
   "source": [
    "import os\n",
    "print(os.path.exists(\"/kaggle/input/deepfakedataset/FakeMusicCaps/MusicCaps\"))\n"
   ]
  },
  {
   "cell_type": "code",
   "execution_count": 6,
   "metadata": {
    "execution": {
     "iopub.execute_input": "2025-03-05T16:56:36.946841Z",
     "iopub.status.busy": "2025-03-05T16:56:36.946500Z",
     "iopub.status.idle": "2025-03-05T17:04:11.212351Z",
     "shell.execute_reply": "2025-03-05T17:04:11.211343Z",
     "shell.execute_reply.started": "2025-03-05T16:56:36.946816Z"
    },
    "trusted": true
   },
   "outputs": [
    {
     "name": "stdout",
     "output_type": "stream",
     "text": [
      "Available models:\n",
      "1. MERT-v0\n",
      "WARNING: feature_extractor_cqt requires the libray 'nnAudio'\n"
     ]
    },
    {
     "name": "stderr",
     "output_type": "stream",
     "text": [
      "Some weights of the model checkpoint at m-a-p/MERT-v0 were not used when initializing MERTModel: ['encoder.pos_conv_embed.conv.weight_g', 'encoder.pos_conv_embed.conv.weight_v']\n",
      "- This IS expected if you are initializing MERTModel from the checkpoint of a model trained on another task or with another architecture (e.g. initializing a BertForSequenceClassification model from a BertForPreTraining model).\n",
      "- This IS NOT expected if you are initializing MERTModel from the checkpoint of a model that you expect to be exactly identical (initializing a BertForSequenceClassification model from a BertForSequenceClassification model).\n",
      "Some weights of MERTModel were not initialized from the model checkpoint at m-a-p/MERT-v0 and are newly initialized: ['encoder.pos_conv_embed.conv.parametrizations.weight.original0', 'encoder.pos_conv_embed.conv.parametrizations.weight.original1']\n",
      "You should probably TRAIN this model on a down-stream task to be able to use it for predictions and inference.\n",
      "Processing audio files: 100%|██████████| 5521/5521 [07:28<00:00, 12.30it/s]\n"
     ]
    },
    {
     "name": "stdout",
     "output_type": "stream",
     "text": [
      "Saved all features to /kaggle/working/output2.csv\n"
     ]
    }
   ],
   "source": [
    "from MFM_extractor import model_list, extract_from\n",
    "model_list()\n",
    "extract_from(\n",
    " selection=\"1\",\n",
    " folder_path=\"/kaggle/input/deepfakedataset/FakeMusicCaps/MusicGen_medium\",\n",
    " output_file=\"/kaggle/working/output2.csv\",   \n",
    " device=\"cuda\"                             \n",
    " )"
   ]
  },
  {
   "cell_type": "code",
   "execution_count": 7,
   "metadata": {
    "execution": {
     "iopub.execute_input": "2025-03-05T17:04:32.132995Z",
     "iopub.status.busy": "2025-03-05T17:04:32.132654Z",
     "iopub.status.idle": "2025-03-05T17:05:42.735662Z",
     "shell.execute_reply": "2025-03-05T17:05:42.734814Z",
     "shell.execute_reply.started": "2025-03-05T17:04:32.132966Z"
    },
    "trusted": true
   },
   "outputs": [
    {
     "name": "stdout",
     "output_type": "stream",
     "text": [
      "Available models:\n",
      "1. MERT-v0\n"
     ]
    },
    {
     "name": "stderr",
     "output_type": "stream",
     "text": [
      "Some weights of the model checkpoint at m-a-p/MERT-v0 were not used when initializing MERTModel: ['encoder.pos_conv_embed.conv.weight_g', 'encoder.pos_conv_embed.conv.weight_v']\n",
      "- This IS expected if you are initializing MERTModel from the checkpoint of a model trained on another task or with another architecture (e.g. initializing a BertForSequenceClassification model from a BertForPreTraining model).\n",
      "- This IS NOT expected if you are initializing MERTModel from the checkpoint of a model that you expect to be exactly identical (initializing a BertForSequenceClassification model from a BertForSequenceClassification model).\n",
      "Some weights of MERTModel were not initialized from the model checkpoint at m-a-p/MERT-v0 and are newly initialized: ['encoder.pos_conv_embed.conv.parametrizations.weight.original0', 'encoder.pos_conv_embed.conv.parametrizations.weight.original1']\n",
      "You should probably TRAIN this model on a down-stream task to be able to use it for predictions and inference.\n"
     ]
    },
    {
     "name": "stdout",
     "output_type": "stream",
     "text": [
      "WARNING: feature_extractor_cqt requires the libray 'nnAudio'\n"
     ]
    },
    {
     "name": "stderr",
     "output_type": "stream",
     "text": [
      "Processing audio files: 100%|██████████| 63/63 [01:09<00:00,  1.11s/it]"
     ]
    },
    {
     "name": "stdout",
     "output_type": "stream",
     "text": [
      "Saved all features to /kaggle/working/output3.csv\n"
     ]
    },
    {
     "name": "stderr",
     "output_type": "stream",
     "text": [
      "\n"
     ]
    }
   ],
   "source": [
    "from MFM_extractor import model_list, extract_from\n",
    "model_list()\n",
    "extract_from(\n",
    " selection=\"1\",\n",
    " folder_path=\"/kaggle/input/deepfakedataset/FakeMusicCaps/SunoCaps\",\n",
    " output_file=\"/kaggle/working/output3.csv\",   \n",
    " device=\"cuda\"                             \n",
    " )"
   ]
  },
  {
   "cell_type": "code",
   "execution_count": 8,
   "metadata": {
    "execution": {
     "iopub.execute_input": "2025-03-05T17:06:15.949627Z",
     "iopub.status.busy": "2025-03-05T17:06:15.949302Z",
     "iopub.status.idle": "2025-03-05T17:13:49.372365Z",
     "shell.execute_reply": "2025-03-05T17:13:49.371570Z",
     "shell.execute_reply.started": "2025-03-05T17:06:15.949602Z"
    },
    "trusted": true
   },
   "outputs": [
    {
     "name": "stdout",
     "output_type": "stream",
     "text": [
      "Available models:\n",
      "1. MERT-v0\n",
      "WARNING: feature_extractor_cqt requires the libray 'nnAudio'\n"
     ]
    },
    {
     "name": "stderr",
     "output_type": "stream",
     "text": [
      "Some weights of the model checkpoint at m-a-p/MERT-v0 were not used when initializing MERTModel: ['encoder.pos_conv_embed.conv.weight_g', 'encoder.pos_conv_embed.conv.weight_v']\n",
      "- This IS expected if you are initializing MERTModel from the checkpoint of a model trained on another task or with another architecture (e.g. initializing a BertForSequenceClassification model from a BertForPreTraining model).\n",
      "- This IS NOT expected if you are initializing MERTModel from the checkpoint of a model that you expect to be exactly identical (initializing a BertForSequenceClassification model from a BertForSequenceClassification model).\n",
      "Some weights of MERTModel were not initialized from the model checkpoint at m-a-p/MERT-v0 and are newly initialized: ['encoder.pos_conv_embed.conv.parametrizations.weight.original0', 'encoder.pos_conv_embed.conv.parametrizations.weight.original1']\n",
      "You should probably TRAIN this model on a down-stream task to be able to use it for predictions and inference.\n",
      "Processing audio files: 100%|██████████| 5521/5521 [07:27<00:00, 12.33it/s]\n"
     ]
    },
    {
     "name": "stdout",
     "output_type": "stream",
     "text": [
      "Saved all features to /kaggle/working/output4.csv\n"
     ]
    }
   ],
   "source": [
    "from MFM_extractor import model_list, extract_from\n",
    "model_list()\n",
    "extract_from(\n",
    " selection=\"1\",\n",
    " folder_path=\"/kaggle/input/deepfakedataset/FakeMusicCaps/audioldm2\",\n",
    " output_file=\"/kaggle/working/output4.csv\",   \n",
    " device=\"cuda\"                             \n",
    " )"
   ]
  },
  {
   "cell_type": "code",
   "execution_count": 9,
   "metadata": {
    "execution": {
     "iopub.execute_input": "2025-03-05T17:14:03.045442Z",
     "iopub.status.busy": "2025-03-05T17:14:03.045121Z",
     "iopub.status.idle": "2025-03-05T17:21:35.764356Z",
     "shell.execute_reply": "2025-03-05T17:21:35.763384Z",
     "shell.execute_reply.started": "2025-03-05T17:14:03.045402Z"
    },
    "trusted": true
   },
   "outputs": [
    {
     "name": "stdout",
     "output_type": "stream",
     "text": [
      "Available models:\n",
      "1. MERT-v0\n",
      "WARNING: feature_extractor_cqt requires the libray 'nnAudio'\n"
     ]
    },
    {
     "name": "stderr",
     "output_type": "stream",
     "text": [
      "Some weights of the model checkpoint at m-a-p/MERT-v0 were not used when initializing MERTModel: ['encoder.pos_conv_embed.conv.weight_g', 'encoder.pos_conv_embed.conv.weight_v']\n",
      "- This IS expected if you are initializing MERTModel from the checkpoint of a model trained on another task or with another architecture (e.g. initializing a BertForSequenceClassification model from a BertForPreTraining model).\n",
      "- This IS NOT expected if you are initializing MERTModel from the checkpoint of a model that you expect to be exactly identical (initializing a BertForSequenceClassification model from a BertForSequenceClassification model).\n",
      "Some weights of MERTModel were not initialized from the model checkpoint at m-a-p/MERT-v0 and are newly initialized: ['encoder.pos_conv_embed.conv.parametrizations.weight.original0', 'encoder.pos_conv_embed.conv.parametrizations.weight.original1']\n",
      "You should probably TRAIN this model on a down-stream task to be able to use it for predictions and inference.\n",
      "Processing audio files: 100%|██████████| 5521/5521 [07:27<00:00, 12.35it/s]\n"
     ]
    },
    {
     "name": "stdout",
     "output_type": "stream",
     "text": [
      "Saved all features to /kaggle/working/output5.csv\n"
     ]
    }
   ],
   "source": [
    "from MFM_extractor import model_list, extract_from\n",
    "model_list()\n",
    "extract_from(\n",
    " selection=\"1\",\n",
    " folder_path=\"/kaggle/input/deepfakedataset/FakeMusicCaps/musicldm\",\n",
    " output_file=\"/kaggle/working/output5.csv\",   \n",
    " device=\"cuda\"                             \n",
    " )"
   ]
  },
  {
   "cell_type": "code",
   "execution_count": 10,
   "metadata": {
    "execution": {
     "iopub.execute_input": "2025-03-05T17:22:23.745323Z",
     "iopub.status.busy": "2025-03-05T17:22:23.744909Z",
     "iopub.status.idle": "2025-03-05T17:30:02.763782Z",
     "shell.execute_reply": "2025-03-05T17:30:02.762830Z",
     "shell.execute_reply.started": "2025-03-05T17:22:23.745287Z"
    },
    "trusted": true
   },
   "outputs": [
    {
     "name": "stdout",
     "output_type": "stream",
     "text": [
      "Available models:\n",
      "1. MERT-v0\n",
      "WARNING: feature_extractor_cqt requires the libray 'nnAudio'\n"
     ]
    },
    {
     "name": "stderr",
     "output_type": "stream",
     "text": [
      "Some weights of the model checkpoint at m-a-p/MERT-v0 were not used when initializing MERTModel: ['encoder.pos_conv_embed.conv.weight_g', 'encoder.pos_conv_embed.conv.weight_v']\n",
      "- This IS expected if you are initializing MERTModel from the checkpoint of a model trained on another task or with another architecture (e.g. initializing a BertForSequenceClassification model from a BertForPreTraining model).\n",
      "- This IS NOT expected if you are initializing MERTModel from the checkpoint of a model that you expect to be exactly identical (initializing a BertForSequenceClassification model from a BertForSequenceClassification model).\n",
      "Some weights of MERTModel were not initialized from the model checkpoint at m-a-p/MERT-v0 and are newly initialized: ['encoder.pos_conv_embed.conv.parametrizations.weight.original0', 'encoder.pos_conv_embed.conv.parametrizations.weight.original1']\n",
      "You should probably TRAIN this model on a down-stream task to be able to use it for predictions and inference.\n",
      "Processing audio files: 100%|██████████| 5521/5521 [07:33<00:00, 12.18it/s]\n"
     ]
    },
    {
     "name": "stdout",
     "output_type": "stream",
     "text": [
      "Saved all features to /kaggle/working/output6.csv\n"
     ]
    }
   ],
   "source": [
    "from MFM_extractor import model_list, extract_from\n",
    "model_list()\n",
    "extract_from(\n",
    " selection=\"1\",\n",
    " folder_path=\"/kaggle/input/deepfakedataset/FakeMusicCaps/mustango\",\n",
    " output_file=\"/kaggle/working/output6.csv\",   \n",
    " device=\"cuda\"                             \n",
    " )"
   ]
  },
  {
   "cell_type": "code",
   "execution_count": 11,
   "metadata": {
    "execution": {
     "iopub.execute_input": "2025-03-05T17:30:24.446759Z",
     "iopub.status.busy": "2025-03-05T17:30:24.446455Z",
     "iopub.status.idle": "2025-03-05T17:37:59.560573Z",
     "shell.execute_reply": "2025-03-05T17:37:59.559401Z",
     "shell.execute_reply.started": "2025-03-05T17:30:24.446736Z"
    },
    "trusted": true
   },
   "outputs": [
    {
     "name": "stdout",
     "output_type": "stream",
     "text": [
      "Available models:\n",
      "1. MERT-v0\n"
     ]
    },
    {
     "name": "stderr",
     "output_type": "stream",
     "text": [
      "Some weights of the model checkpoint at m-a-p/MERT-v0 were not used when initializing MERTModel: ['encoder.pos_conv_embed.conv.weight_g', 'encoder.pos_conv_embed.conv.weight_v']\n",
      "- This IS expected if you are initializing MERTModel from the checkpoint of a model trained on another task or with another architecture (e.g. initializing a BertForSequenceClassification model from a BertForPreTraining model).\n",
      "- This IS NOT expected if you are initializing MERTModel from the checkpoint of a model that you expect to be exactly identical (initializing a BertForSequenceClassification model from a BertForSequenceClassification model).\n",
      "Some weights of MERTModel were not initialized from the model checkpoint at m-a-p/MERT-v0 and are newly initialized: ['encoder.pos_conv_embed.conv.parametrizations.weight.original0', 'encoder.pos_conv_embed.conv.parametrizations.weight.original1']\n",
      "You should probably TRAIN this model on a down-stream task to be able to use it for predictions and inference.\n"
     ]
    },
    {
     "name": "stdout",
     "output_type": "stream",
     "text": [
      "WARNING: feature_extractor_cqt requires the libray 'nnAudio'\n"
     ]
    },
    {
     "name": "stderr",
     "output_type": "stream",
     "text": [
      "Processing audio files: 100%|██████████| 5521/5521 [07:29<00:00, 12.28it/s]\n"
     ]
    },
    {
     "name": "stdout",
     "output_type": "stream",
     "text": [
      "Saved all features to /kaggle/working/output7.csv\n"
     ]
    }
   ],
   "source": [
    "from MFM_extractor import model_list, extract_from\n",
    "model_list()\n",
    "extract_from(\n",
    " selection=\"1\",\n",
    " folder_path=\"/kaggle/input/deepfakedataset/FakeMusicCaps/stable_audio_open\",\n",
    " output_file=\"/kaggle/working/output7.csv\",   \n",
    " device=\"cuda\"                             \n",
    " )"
   ]
  },
  {
   "cell_type": "markdown",
   "metadata": {},
   "source": [
    "### Merged the embeggings with their corresponding labels"
   ]
  },
  {
   "cell_type": "code",
   "execution_count": null,
   "metadata": {
    "execution": {
     "iopub.execute_input": "2025-03-11T15:31:15.653906Z",
     "iopub.status.busy": "2025-03-11T15:31:15.653626Z",
     "iopub.status.idle": "2025-03-11T15:31:43.287143Z",
     "shell.execute_reply": "2025-03-11T15:31:43.286467Z",
     "shell.execute_reply.started": "2025-03-11T15:31:15.653878Z"
    },
    "trusted": true
   },
   "outputs": [
    {
     "name": "stdout",
     "output_type": "stream",
     "text": [
      "✅ Processed MusicCaps.csv with label 1 and saved to /kaggle/working/MusicCaps.csv\n",
      "✅ Processed MusicGen_medium.csv with label 0 and saved to /kaggle/working/MusicGen_medium.csv\n",
      "✅ Processed SunoCaps.csv with label 0 and saved to /kaggle/working/SunoCaps.csv\n",
      "✅ Processed audioldm2.csv with label 0 and saved to /kaggle/working/audioldm2.csv\n",
      "✅ Processed musicldm.csv with label 0 and saved to /kaggle/working/musicldm.csv\n",
      "✅ Processed mustango.csv with label 0 and saved to /kaggle/working/mustango.csv\n",
      "✅ Processed stable_audio_open.csv with label 0 and saved to /kaggle/working/stable_audio_open.csv\n",
      "🎯 Labeling complete! Check /kaggle/working/ for updated files.\n"
     ]
    }
   ],
   "source": [
    "import pandas as pd\n",
    "import os\n",
    "\n",
    "file_paths = {\n",
    "    \"MusicCaps.csv\": 1, \n",
    "    \"MusicGen_medium.csv\": 0,\n",
    "    \"SunoCaps.csv\": 0,\n",
    "    \"audioldm2.csv\": 0,\n",
    "    \"musicldm.csv\": 0,\n",
    "    \"mustango.csv\": 0,\n",
    "    \"stable_audio_open.csv\": 0\n",
    "}\n",
    "\n",
    "input_folder = \"/kaggle/input/output\" \n",
    "\n",
    "output_folder = \"/kaggle/working/\"  \n",
    "\n",
    "for file_name, label in file_paths.items():\n",
    "    input_path = os.path.join(input_folder, file_name)\n",
    "    output_path = os.path.join(output_folder, file_name)  # Save to working directory\n",
    "\n",
    "    if os.path.exists(input_path):\n",
    "        df = pd.read_csv(input_path)\n",
    "\n",
    "        df.insert(0, \"label\", label)\n",
    "\n",
    "        df.to_csv(output_path, index=False)\n",
    "\n",
    "        print(f\"Processed {file_name} with label {label} and saved to {output_path}\")\n",
    "    else:\n",
    "        print(f\"⚠️ File not found: {input_path}\")\n",
    "\n",
    "print(\"🎯 Labeling complete! Check /kaggle/working/ for updated files.\")\n"
   ]
  }
 ],
 "metadata": {
  "kaggle": {
   "accelerator": "nvidiaTeslaT4",
   "dataSources": [
    {
     "datasetId": 6445498,
     "sourceId": 10402084,
     "sourceType": "datasetVersion"
    },
    {
     "datasetId": 6834683,
     "sourceId": 10982178,
     "sourceType": "datasetVersion"
    }
   ],
   "dockerImageVersionId": 30822,
   "isGpuEnabled": true,
   "isInternetEnabled": true,
   "language": "python",
   "sourceType": "notebook"
  },
  "kernelspec": {
   "display_name": "Python 3",
   "language": "python",
   "name": "python3"
  },
  "language_info": {
   "codemirror_mode": {
    "name": "ipython",
    "version": 3
   },
   "file_extension": ".py",
   "mimetype": "text/x-python",
   "name": "python",
   "nbconvert_exporter": "python",
   "pygments_lexer": "ipython3",
   "version": "3.10.12"
  }
 },
 "nbformat": 4,
 "nbformat_minor": 4
}
